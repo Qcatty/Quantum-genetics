{
 "cells": [
  {
   "cell_type": "code",
   "execution_count": null,
   "id": "55b785fe-5549-43c3-b1c9-a88d441466fa",
   "metadata": {},
   "outputs": [],
   "source": []
  },
  {
   "cell_type": "code",
   "execution_count": 28,
   "id": "7497f136-60b1-4f21-96d5-3bbf9ab6d7dc",
   "metadata": {},
   "outputs": [],
   "source": [
    "import csv\n",
    "\n",
    "# Open the CSV file\n",
    "with open('data/test.csv', 'r') as csv_file:\n",
    "    # Create a reader object\n",
    "    csv_reader = csv.reader(csv_file)\n",
    "    \n",
    "    blind_blood_Cell_count = []\n",
    "    # Loop through each row in the CSV file\n",
    "    for row in csv_reader:\n",
    "        # Access the data in each row by index\n",
    "        #['Blood cell count (mcL)']\n",
    "        if row[6].isnumeric:\n",
    "            blind_blood_Cell_count.append(row[6])\n",
    "    blind_blood_Cell_count = blind_blood_Cell_count[1:]\n",
    "    #print(blind_blood_Cell_count)"
   ]
  },
  {
   "cell_type": "code",
   "execution_count": 44,
   "id": "fe259907-7ebe-4c68-b5a4-2b8433584458",
   "metadata": {},
   "outputs": [],
   "source": [
    "def divide_int_by_percentages(num, percentages): #[1]\n",
    "    # Calculate the sum of percentages\n",
    "    total_percentages = sum(percentages)\n",
    "    # Initialize the list of results\n",
    "    results = []\n",
    "    # Calculate the number of parts for each percentage\n",
    "    for p in percentages:\n",
    "        results.append(num * p / total_percentages)\n",
    "    # Round the results to integers\n",
    "    results = [int(round(r)) for r in results]\n",
    "    # Check if the sum of the results is equal to the original number\n",
    "    #assert sum(results) == num, \"Sum of results is not equal to the original number\"\n",
    "    # Return the results\n",
    "    return results"
   ]
  },
  {
   "cell_type": "code",
   "execution_count": null,
   "id": "5df7e37a-1003-49e6-aced-8ffc20fd000b",
   "metadata": {},
   "outputs": [],
   "source": [
    "import numpy as np\n",
    "import re\n",
    "\n",
    "#Nucleotide profiles of normal human blood cells\n",
    "\n",
    "nucleotides = ['A', 'C', 'G', 'T']#[2]\n",
    "\n",
    "paired_nu_bl=[]\n",
    "\n",
    "for count in blind_blood_Cell_count:\n",
    "    \n",
    "    c = int(re.search(r'\\d+', count).group())\n",
    "    print(count)\n",
    "    percentages = [0.3, 0.2, 0.2, 0.3]\n",
    "    results = divide_int_by_percentages(c, percentages)\n",
    "    paired_nu_bl.append(results)\n",
    "    print(results)  # Output: [25, 30, 20, 25]\n",
    "\n",
    "    \n"
   ]
  },
  {
   "cell_type": "code",
   "execution_count": 49,
   "id": "f0f30cfe-e1ce-4505-9a35-331a216d2a03",
   "metadata": {},
   "outputs": [],
   "source": [
    "#todo - add to qubit state"
   ]
  },
  {
   "cell_type": "code",
   "execution_count": 47,
   "id": "d488dd5c-e55d-48b0-a413-030371fcd8b8",
   "metadata": {},
   "outputs": [],
   "source": [
    "#citation\n",
    "# [1 and 2]OpenAI. (2021). ChatGPT [Computer software]. https://openai.com/blog/chat-gpt-3-6b/\n",
    "# The percentage of distribution of blood cells in nucleotide for A, G, C, T varies between individuals and can be influenced by factors such as genetics, age, and health status. However, on average, the percentage of distribution of each nucleotide in human blood cells is approximately:\n",
    "\n",
    "# Adenine (A): 30%\n",
    "# Guanine (G): 20%\n",
    "# Cytosine (C): 20%\n",
    "# Thymine (T): 30%\n",
    "# It's worth noting that this is an average and can vary depending on the individual."
   ]
  },
  {
   "cell_type": "code",
   "execution_count": null,
   "id": "6df9e2c4-6130-4fe1-ae42-60424e4dfa50",
   "metadata": {},
   "outputs": [],
   "source": []
  }
 ],
 "metadata": {
  "kernelspec": {
   "display_name": "PennyLane",
   "language": "python",
   "name": "pennylane"
  },
  "language_info": {
   "codemirror_mode": {
    "name": "ipython",
    "version": 3
   },
   "file_extension": ".py",
   "mimetype": "text/x-python",
   "name": "python",
   "nbconvert_exporter": "python",
   "pygments_lexer": "ipython3",
   "version": "3.9.15"
  }
 },
 "nbformat": 4,
 "nbformat_minor": 5
}
